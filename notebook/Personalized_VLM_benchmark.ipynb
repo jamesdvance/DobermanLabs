{
 "cells": [
  {
   "cell_type": "markdown",
   "metadata": {
    "colab_type": "text",
    "id": "view-in-github"
   },
   "source": [
    "<a href=\"https://colab.research.google.com/github/jamesdvance/DobermanLabs/blob/main/Personalized_VLM_benchmark.ipynb\" target=\"_parent\"><img src=\"https://colab.research.google.com/assets/colab-badge.svg\" alt=\"Open In Colab\"/></a>"
   ]
  },
  {
   "cell_type": "code",
   "execution_count": 2,
   "metadata": {
    "id": "lnPDV6ZoAzA6"
   },
   "outputs": [],
   "source": [
    "! pip install -q einops"
   ]
  },
  {
   "cell_type": "code",
   "execution_count": 3,
   "metadata": {
    "id": "HXTCLOgsBD4-"
   },
   "outputs": [],
   "source": [
    "import cv2\n",
    "import os\n",
    "import torch\n",
    "from PIL import Image as pillow\n",
    "from typing import Union\n",
    "from transformers import AutoModelForCausalLM, AutoTokenizer, pipeline\n",
    "from einops import rearrange, repeat\n",
    "from huggingface_hub import login\n"
   ]
  },
  {
   "cell_type": "code",
   "execution_count": null,
   "metadata": {
    "id": "7OTWFAo4Ogq1"
   },
   "outputs": [],
   "source": [
    "model_id = \"vikhyatk/moondream2\"\n",
    "output_folder = \"./drive/MyDrive/\""
   ]
  },
  {
   "cell_type": "code",
   "execution_count": 4,
   "metadata": {
    "id": "P0B7Te0zHUkf"
   },
   "outputs": [],
   "source": [
    "def extract_frames(video_path, output_dir, frame_rate=1)->os.PathLike:\n",
    "  os.makedirs(output_dir, exist_ok=True)\n",
    "  cap = cv2.VideoCapture(video_path)\n",
    "  fps = cap.get(cv2.CAP_PROP_FPS)\n",
    "  num_frames = int(cap.get(cv2.CAP_PROP_FRAME_COUNT))\n",
    "  frame_interval = int(fps / frame_rate)\n",
    "  frame_count = 0\n",
    "  while True:\n",
    "    ret, frame = cap.read()\n",
    "    if not ret:\n",
    "      break\n",
    "\n",
    "    if frame_count % frame_interval == 0:\n",
    "      frame_filename = os.path.join(output_dir, f\"frame_{frame_count:04d}.jpg\")\n",
    "      cv2.imwrite(frame_filename, frame)\n",
    "\n",
    "    frame_count += 1\n",
    "\n",
    "  cap.release()\n",
    "\n",
    "  return output_dir\n"
   ]
  },
  {
   "cell_type": "code",
   "execution_count": 5,
   "metadata": {
    "id": "zPVUrEhZOOui"
   },
   "outputs": [],
   "source": [
    "def load_model(model_id):\n",
    "  model = AutoModelForCausalLM.from_pretrained(\n",
    "      model_id,\n",
    "      torch_dtype=torch.float16,\n",
    "      low_cpu_mem_usage=True\n",
    "  )\n",
    "  tokenizer = AutoTokenizer.from_pretrained(model_id)\n",
    "  return model, tokenizer"
   ]
  },
  {
   "cell_type": "code",
   "execution_count": null,
   "metadata": {
    "id": "T3dO-F3eRg0J"
   },
   "outputs": [],
   "source": []
  }
 ],
 "metadata": {
  "colab": {
   "authorship_tag": "ABX9TyP6LbUvYL8exAKqB4pk4+TY",
   "include_colab_link": true,
   "mount_file_id": "1tX3vsGMZ2gjnAX-qJ6ObA5imOXZagUML",
   "provenance": []
  },
  "kernelspec": {
   "display_name": "Python 3",
   "name": "python3"
  },
  "language_info": {
   "name": "python"
  }
 },
 "nbformat": 4,
 "nbformat_minor": 0
}
