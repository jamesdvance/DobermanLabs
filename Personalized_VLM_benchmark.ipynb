{
  "nbformat": 4,
  "nbformat_minor": 0,
  "metadata": {
    "colab": {
      "provenance": [],
      "mount_file_id": "1tX3vsGMZ2gjnAX-qJ6ObA5imOXZagUML",
      "authorship_tag": "ABX9TyP6LbUvYL8exAKqB4pk4+TY",
      "include_colab_link": true
    },
    "kernelspec": {
      "name": "python3",
      "display_name": "Python 3"
    },
    "language_info": {
      "name": "python"
    }
  },
  "cells": [
    {
      "cell_type": "markdown",
      "metadata": {
        "id": "view-in-github",
        "colab_type": "text"
      },
      "source": [
        "<a href=\"https://colab.research.google.com/github/jamesdvance/DobermanLabs/blob/main/Personalized_VLM_benchmark.ipynb\" target=\"_parent\"><img src=\"https://colab.research.google.com/assets/colab-badge.svg\" alt=\"Open In Colab\"/></a>"
      ]
    },
    {
      "cell_type": "code",
      "execution_count": 2,
      "metadata": {
        "id": "lnPDV6ZoAzA6"
      },
      "outputs": [],
      "source": [
        "! pip install -q einops"
      ]
    },
    {
      "cell_type": "code",
      "source": [
        "import cv2\n",
        "import os\n",
        "import torch\n",
        "from PIL import Image as pillow\n",
        "from typing import Union\n",
        "from transformers import AutoModelForCausalLM, AutoTokenizer, pipeline\n",
        "from einops import rearrange, repeat\n",
        "from huggingface_hub import login\n"
      ],
      "metadata": {
        "id": "HXTCLOgsBD4-"
      },
      "execution_count": 3,
      "outputs": []
    },
    {
      "cell_type": "markdown",
      "source": [],
      "metadata": {
        "id": "TsMZeLSlOhtb"
      }
    },
    {
      "cell_type": "code",
      "source": [
        "model_id = \"vikhyatk/moondream2\"\n",
        "output_folder = \"./drive/MyDrive/\""
      ],
      "metadata": {
        "id": "7OTWFAo4Ogq1"
      },
      "execution_count": null,
      "outputs": []
    },
    {
      "cell_type": "code",
      "source": [
        "def extract_frames(video_path, output_dir, frame_rate=1)->os.PathLike:\n",
        "  os.makedirs(output_dir, exist_ok=True)\n",
        "  cap = cv2.VideoCapture(video_path)\n",
        "  fps = cap.get(cv2.CAP_PROP_FPS)\n",
        "  num_frames = int(cap.get(cv2.CAP_PROP_FRAME_COUNT))\n",
        "  frame_interval = int(fps / frame_rate)\n",
        "  frame_count = 0\n",
        "  while True:\n",
        "    ret, frame = cap.read()\n",
        "    if not ret:\n",
        "      break\n",
        "\n",
        "    if frame_count % frame_interval == 0:\n",
        "      frame_filename = os.path.join(output_dir, f\"frame_{frame_count:04d}.jpg\")\n",
        "      cv2.imwrite(frame_filename, frame)\n",
        "\n",
        "    frame_count += 1\n",
        "\n",
        "  cap.release()\n",
        "\n",
        "  return output_dir\n"
      ],
      "metadata": {
        "id": "P0B7Te0zHUkf"
      },
      "execution_count": 4,
      "outputs": []
    },
    {
      "cell_type": "code",
      "source": [
        "def load_model(model_id):\n",
        "  model = AutoModelForCausalLM.from_pretrained(\n",
        "      model_id,\n",
        "      torch_dtype=torch.float16,\n",
        "      low_cpu_mem_usage=True\n",
        "  )\n",
        "  tokenizer = AutoTokenizer.from_pretrained(model_id)\n",
        "  return model, tokenizer"
      ],
      "metadata": {
        "id": "zPVUrEhZOOui"
      },
      "execution_count": 5,
      "outputs": []
    },
    {
      "cell_type": "code",
      "source": [],
      "metadata": {
        "id": "T3dO-F3eRg0J"
      },
      "execution_count": null,
      "outputs": []
    }
  ]
}